{
 "cells": [
  {
   "cell_type": "markdown",
   "id": "9913b283-dac1-4953-bc4e-2df0164111a4",
   "metadata": {},
   "source": [
    "# LAB 8 Task"
   ]
  },
  {
   "cell_type": "code",
   "execution_count": 6,
   "id": "4861c5a7-2684-44b9-8d11-deddfecce175",
   "metadata": {},
   "outputs": [],
   "source": [
    "class Person:\n",
    "    def __init__(self, name, age):\n",
    "        self.name = name\n",
    "        self.age = age\n",
    "\n",
    "    def display_info(self):\n",
    "        print(f\"Name:{self.name}, Age:{self.age}\")\n",
    "\n",
    "class Employee:\n",
    "    def __init__(self, employee_id, position):\n",
    "        self.employee_id = employee_id\n",
    "        self.position = position\n",
    "\n",
    "    def display_info(self):\n",
    "        print(f\"Employee: {self.employee_id}, Position: {self.position}\")\n",
    "\n",
    "class Staff(Person, Employee):\n",
    "    def __init__(self, name, age, employee_id, position, dept):\n",
    "        Person.__init__(self, name, age)\n",
    "        Employee.__init__(self, employee_id, position)\n",
    "        self.dept = dept\n",
    "\n",
    "    def additional_info(self):\n",
    "        print(f\"Department: {self.dept}\")"
   ]
  },
  {
   "cell_type": "code",
   "execution_count": 9,
   "id": "fd67c15f-05a5-41d3-a3ca-bedaf3a46853",
   "metadata": {},
   "outputs": [],
   "source": [
    "def save_employee_to_file(filename, staff_list):\n",
    "    with open(filename, mode=\"w\", newline= \"\") as file:\n",
    "        writer = csv.writer(file)\n",
    "        writer.writerow([\"Name\", \"Age\", \"Employee_ID\", \"Position\", \"Department\"])\n",
    "\n",
    "        for staff in staff_list:\n",
    "            writer.writerow([staff.name, staff.age, staff.employee_id, staff.position, staff.dept])\n",
    "\n",
    "\n",
    "def read_employee_from_file(filename):\n",
    "    staff_list = []\n",
    "    with open(filename, mode = \"r\") as file:\n",
    "        reader = csv.reader(file)\n",
    "        next(reader)\n",
    "        for row in reader:\n",
    "            name, age, employee_id, position, dept = row\n",
    "            staff = Staff(name, int(age), employee_id, position, dept)\n",
    "            staff_list.append(staff)\n",
    "\n",
    "    return staff_list\n",
    "\n",
    "\n",
    "\n",
    "def add_employee_to_file(filename, new_staff):\n",
    "    with open(filename, mode = \"a\", newline=\"\")as file:\n",
    "        writer = csv.writer(file)\n",
    "        writer.writerow([new_staff.name, new_staff.age, new_staff.employee_id, new_staff.position, new_staff.dept])\n"
   ]
  },
  {
   "cell_type": "code",
   "execution_count": 12,
   "id": "9154830e-e5ba-47e5-9525-c4e7dd6999bb",
   "metadata": {},
   "outputs": [
    {
     "name": "stdout",
     "output_type": "stream",
     "text": [
      "Initial data from file:\n",
      "Name:Huzaifa, Age:20\n",
      "Department: CS\n",
      "Name:Ali, Age:21\n",
      "Department: IT\n",
      "Name:Talha, Age:20\n",
      "Department: SE\n",
      "\n",
      "Updated data from the file:\n",
      "Name:Huzaifa, Age:20\n",
      "Department: CS\n",
      "Name:Ali, Age:21\n",
      "Department: IT\n",
      "Name:Talha, Age:20\n",
      "Department: SE\n",
      "Name:Ansari, Age:22\n",
      "Department: AI Engineer\n"
     ]
    }
   ],
   "source": [
    "staff_1 = Staff(\"Huzaifa\", 20 , \"H111\" , \"Manager\" , \"CS\")\n",
    "staff_2 = Staff(\"Ali\", 21 , \"A222\" , \"Developer\" , \"IT\")\n",
    "staff_3 = Staff(\"Talha\", 20 , \"T333\" , \"Designer\" , \"SE\")\n",
    "\n",
    "staff_list = [staff_1, staff_2, staff_3]\n",
    "\n",
    "filename = \"employees.csv\"\n",
    "\n",
    "save_employee_to_file(filename, staff_list)\n",
    "\n",
    "print(\"Initial data from file:\")\n",
    "\n",
    "staff_from_file = read_employee_from_file(filename)\n",
    "\n",
    "for staff in staff_from_file:\n",
    "    staff.display_info()\n",
    "    staff.additional_info()\n",
    "\n",
    "new_staff = Staff(\"Ansari\", 22, \"A444\", \"HOD\", \"AI Engineer\")\n",
    "add_employee_to_file(filename, new_staff)\n",
    "\n",
    "print(\"\\nUpdated data from the file:\")\n",
    "\n",
    "staff_from_file = read_employee_from_file(filename)\n",
    "for staff in staff_from_file:\n",
    "    staff.display_info()\n",
    "    staff.additional_info()\n"
   ]
  },
  {
   "cell_type": "code",
   "execution_count": null,
   "id": "d74aca70-2ec3-463e-93c6-39b07b2f2e27",
   "metadata": {},
   "outputs": [],
   "source": []
  },
  {
   "cell_type": "code",
   "execution_count": null,
   "id": "f65555d8-bd68-41cf-bdc4-90c4fd20c3c1",
   "metadata": {},
   "outputs": [],
   "source": []
  }
 ],
 "metadata": {
  "kernelspec": {
   "display_name": "Python 3 (ipykernel)",
   "language": "python",
   "name": "python3"
  },
  "language_info": {
   "codemirror_mode": {
    "name": "ipython",
    "version": 3
   },
   "file_extension": ".py",
   "mimetype": "text/x-python",
   "name": "python",
   "nbconvert_exporter": "python",
   "pygments_lexer": "ipython3",
   "version": "3.11.7"
  }
 },
 "nbformat": 4,
 "nbformat_minor": 5
}
