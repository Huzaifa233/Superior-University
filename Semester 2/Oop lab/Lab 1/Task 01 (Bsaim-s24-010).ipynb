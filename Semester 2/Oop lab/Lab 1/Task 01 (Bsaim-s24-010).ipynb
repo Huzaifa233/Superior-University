{
 "cells": [
  {
   "cell_type": "markdown",
   "id": "cf76da80-4e95-44b9-92e2-50ce201b6722",
   "metadata": {},
   "source": [
    "# Task # 1:\n",
    "### Write a Python function to determine whether a given number is prime or not. Your program should have the following features:\n",
    "#### • Implement a function called is_prime(number) which takes an integer parameter number and returns True if the number is prime, and False otherwise.\n",
    "#### • Use an if-else statement inside the is_prime() function to check if the given number is divisible by any integer from 2 to the square root of the number. If it is divisible, return False; otherwise, return True.\n",
    "#### • Implement a loop to repeatedly ask the user to enter a number. Inside the loop, call the is_prime() function to determine whether the entered number is prime or not.\n",
    "#### • Print an appropriate message indicating whether the number is prime or not."
   ]
  },
  {
   "cell_type": "code",
   "execution_count": null,
   "id": "900f7596-3c69-4aa0-9719-dd6e7ca03033",
   "metadata": {},
   "outputs": [
    {
     "name": "stdin",
     "output_type": "stream",
     "text": [
      "Enter a Number: 2\n"
     ]
    },
    {
     "name": "stdout",
     "output_type": "stream",
     "text": [
      " 2 is Prime. \n"
     ]
    },
    {
     "name": "stdin",
     "output_type": "stream",
     "text": [
      "Enter a Number: 10\n"
     ]
    },
    {
     "name": "stdout",
     "output_type": "stream",
     "text": [
      " 10 is not Prime.\n"
     ]
    },
    {
     "name": "stdin",
     "output_type": "stream",
     "text": [
      "Enter a Number: 1\n"
     ]
    },
    {
     "name": "stdout",
     "output_type": "stream",
     "text": [
      " 1 is not Prime.\n"
     ]
    },
    {
     "name": "stdin",
     "output_type": "stream",
     "text": [
      "Enter a Number: 21\n"
     ]
    },
    {
     "name": "stdout",
     "output_type": "stream",
     "text": [
      " 21 is not Prime.\n"
     ]
    }
   ],
   "source": [
    "def is_prime(num):\n",
    "    if num < 2:\n",
    "        return False\n",
    "    i = 2\n",
    "    while i * i <= num:\n",
    "        if num % i == 0:\n",
    "            return False\n",
    "        i += 1\n",
    "    return True\n",
    "\n",
    "while True:\n",
    "    num = int(input(\"Enter a Number:\"))\n",
    "    if num == 0:\n",
    "        break\n",
    "    if is_prime(num):\n",
    "        print(f\" {num} is Prime. \")\n",
    "    else:\n",
    "        print(f\" {num} is not Prime.\")"
   ]
  },
  {
   "cell_type": "code",
   "execution_count": null,
   "id": "2cd0b817-f091-4f8a-a32a-6706aaaf1925",
   "metadata": {},
   "outputs": [],
   "source": []
  }
 ],
 "metadata": {
  "kernelspec": {
   "display_name": "Python 3 (ipykernel)",
   "language": "python",
   "name": "python3"
  },
  "language_info": {
   "codemirror_mode": {
    "name": "ipython",
    "version": 3
   },
   "file_extension": ".py",
   "mimetype": "text/x-python",
   "name": "python",
   "nbconvert_exporter": "python",
   "pygments_lexer": "ipython3",
   "version": "3.11.7"
  }
 },
 "nbformat": 4,
 "nbformat_minor": 5
}
