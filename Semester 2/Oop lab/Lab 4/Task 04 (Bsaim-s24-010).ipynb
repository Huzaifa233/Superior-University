{
 "cells": [
  {
   "cell_type": "markdown",
   "id": "43c73b5d-0869-4db5-a37e-9b0e94cc01a8",
   "metadata": {},
   "source": [
    "# Lab 4 - Task\n",
    "### Task 1; Create a Python class called Book with the following attributes and methods:\n",
    "#### 1. title (string): representing the title of the book.\n",
    "#### 2. author (string): representing the author of the book.\n",
    "#### 3. publication_year (integer): representing the publication year of the book.\n",
    "#### 4. __init__(self, title, author, publication_year): Constructor method to initialize the attributes of the book object.\n",
    "#### 5. __str__(self): Method to return a string representation of the book object in the format \"Title: [title], Author: [author], Publication Year: [publication_year]\"."
   ]
  },
  {
   "cell_type": "code",
   "execution_count": 3,
   "id": "1ebd3e0f-03d1-437e-88f2-d88c47e03e35",
   "metadata": {},
   "outputs": [
    {
     "name": "stdout",
     "output_type": "stream",
     "text": [
      "Title: Trust & Inspire, Author: Stephen M.R.Covey, Publication Year: 1925\n"
     ]
    }
   ],
   "source": [
    "class Book:\n",
    "    def __init__(self, title, author, publication_year):\n",
    "        self.title = title\n",
    "        self.author = author\n",
    "        self.publication_year = publication_year\n",
    "\n",
    "    def __str__(self):\n",
    "        return f\"Title: {self.title}, Author: {self.author}, Publication Year: {self.publication_year}\"\n",
    "\n",
    "my_book = Book(\"Trust & Inspire\", \"Stephen M.R.Covey\", 1925)\n",
    "print(my_book)\n",
    "    "
   ]
  },
  {
   "cell_type": "code",
   "execution_count": null,
   "id": "5946945b-26ea-4f3b-bcd5-e25840126f6a",
   "metadata": {},
   "outputs": [],
   "source": []
  }
 ],
 "metadata": {
  "kernelspec": {
   "display_name": "Python 3 (ipykernel)",
   "language": "python",
   "name": "python3"
  },
  "language_info": {
   "codemirror_mode": {
    "name": "ipython",
    "version": 3
   },
   "file_extension": ".py",
   "mimetype": "text/x-python",
   "name": "python",
   "nbconvert_exporter": "python",
   "pygments_lexer": "ipython3",
   "version": "3.11.7"
  }
 },
 "nbformat": 4,
 "nbformat_minor": 5
}
