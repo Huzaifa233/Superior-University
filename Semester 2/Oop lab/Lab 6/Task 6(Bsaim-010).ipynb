{
 "cells": [
  {
   "cell_type": "markdown",
   "id": "8649e6d5-4e3a-49a6-9f9d-708c5ba33481",
   "metadata": {},
   "source": [
    "# Lab 6 - Task :"
   ]
  },
  {
   "cell_type": "markdown",
   "id": "abf62b31-816a-4c56-9586-35d1f7f5bcea",
   "metadata": {},
   "source": [
    "## Create a Python program to model a university course registration system:\n",
    "#### 1. Implement a parent class called Course with attributes course_code and course_name. Include a method display_info to display the course code and name.\n",
    "#### 2. Create two child classes UndergraduateCourse and GraduateCourse inheriting from Course. Each should have an additional attribute (year_level for UndergraduateCourse and research_area for GraduateCourse) and a method additional_info to display the additional attributes.\n",
    "#### 3. Implement a function register_course that takes user input to register a course. The user should input the course code, course name, year level (for undergraduate courses), or research area (for graduate courses). "
   ]
  },
  {
   "cell_type": "code",
   "execution_count": 6,
   "id": "3a21cbd0-b600-4a9c-b480-d92fd455705a",
   "metadata": {},
   "outputs": [
    {
     "name": "stdin",
     "output_type": "stream",
     "text": [
      "Enter course code:  CS101\n",
      "Enter course name:  Introduction to Programming\n",
      "Enter course type (U/G):  U\n",
      "Enter year level:  1\n"
     ]
    },
    {
     "name": "stdout",
     "output_type": "stream",
     "text": [
      "Course Code: CS101, Course Name: Introduction to Programming\n",
      "Year Level: 1\n"
     ]
    },
    {
     "name": "stdin",
     "output_type": "stream",
     "text": [
      "Register another course? (yes/no):  YES\n",
      "Enter course code:  CS102\n",
      "Enter course name:  Artificail Intelligence\n",
      "Enter course type (U/G):  G\n",
      "Enter research area:  machine learning\n"
     ]
    },
    {
     "name": "stdout",
     "output_type": "stream",
     "text": [
      "Course Code: CS102, Course Name: Artificail Intelligence\n",
      "Research Area: machine learning\n"
     ]
    },
    {
     "name": "stdin",
     "output_type": "stream",
     "text": [
      "Register another course? (yes/no):  no\n"
     ]
    }
   ],
   "source": [
    "class Course:\n",
    "    def __init__(self, course_code, course_name):\n",
    "        self.course_code = course_code\n",
    "        self.course_name = course_name\n",
    "\n",
    "    def display_info(self):\n",
    "        print(f\"Course Code: {self.course_code}, Course Name: {self.course_name}\")\n",
    "\n",
    "class UndergraduateCourse(Course):\n",
    "    def __init__(self, course_code, course_name, year_level):\n",
    "        super().__init__(course_code, course_name)\n",
    "        self.year_level = year_level\n",
    "\n",
    "    def additional_info(self):\n",
    "        print(f\"Year Level: {self.year_level}\")\n",
    "\n",
    "class GraduateCourse(Course):\n",
    "    def __init__(self, course_code, course_name, research_area):\n",
    "        super().__init__(course_code, course_name)\n",
    "        self.research_area = research_area\n",
    "\n",
    "    def additional_info(self):\n",
    "        print(f\"Research Area: {self.research_area}\")\n",
    "\n",
    "def register_course():\n",
    "    course_code = input(\"Enter course code: \")\n",
    "    course_name = input(\"Enter course name: \")\n",
    "    course_type = input(\"Enter course type (U/G): \").strip().upper()\n",
    "    \n",
    "    if course_type == \"U\":\n",
    "        year_level = input(\"Enter year level: \")\n",
    "        course = UndergraduateCourse(course_code, course_name, year_level)\n",
    "    \n",
    "    elif course_type == \"G\":\n",
    "        research_area = input(\"Enter research area: \")\n",
    "        course = GraduateCourse(course_code, course_name, research_area)\n",
    "\n",
    "    else:\n",
    "        print(\"Invalid Course Type.\")\n",
    "        return\n",
    "\n",
    "    course.display_info()\n",
    "    course.additional_info()\n",
    "\n",
    "def main():\n",
    "    while True:\n",
    "        register_course()\n",
    "        cont = input(\"Register another course? (yes/no): \").strip().lower()\n",
    "        if cont != \"yes\":\n",
    "            break\n",
    "\n",
    "if __name__ == \"__main__\":\n",
    "    main()\n"
   ]
  },
  {
   "cell_type": "code",
   "execution_count": null,
   "id": "e3e7f565-c394-4f85-9535-ccb037671d34",
   "metadata": {},
   "outputs": [],
   "source": []
  }
 ],
 "metadata": {
  "kernelspec": {
   "display_name": "Python 3 (ipykernel)",
   "language": "python",
   "name": "python3"
  },
  "language_info": {
   "codemirror_mode": {
    "name": "ipython",
    "version": 3
   },
   "file_extension": ".py",
   "mimetype": "text/x-python",
   "name": "python",
   "nbconvert_exporter": "python",
   "pygments_lexer": "ipython3",
   "version": "3.11.7"
  }
 },
 "nbformat": 4,
 "nbformat_minor": 5
}
