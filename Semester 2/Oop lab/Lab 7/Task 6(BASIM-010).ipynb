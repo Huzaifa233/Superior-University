{
 "cells": [
  {
   "cell_type": "markdown",
   "id": "99bda5fc-d001-42e5-b014-6bfef21bdaac",
   "metadata": {},
   "source": [
    "# Lab 7 - Task"
   ]
  },
  {
   "cell_type": "markdown",
   "id": "45d7a892-aecc-4257-80e9-ecc2496ba001",
   "metadata": {},
   "source": [
    "\n",
    "## Task 1: Create a Python program to model a vehicle rental system:\n",
    "#### 1. Implement a parent class called Vehicle with attributes make and model. Include a method display_info to display the make and model of the vehicle.\n",
    "#### 2. Create a child class Car inheriting from Vehicle. The Car class should have an additional attribute num_doors and a method additional_info to display the number of doors.\n",
    "#### 3. Create another child class LuxuryCar inheriting from Car. The LuxuryCar class should have an additional attribute features and a method additional_info to display the luxury features.\n"
   ]
  },
  {
   "cell_type": "code",
   "execution_count": 3,
   "id": "b574a6b8-9000-409b-8b82-af33c1d354e5",
   "metadata": {},
   "outputs": [
    {
     "name": "stdout",
     "output_type": "stream",
     "text": [
      "Vehicle: Toyota, Camry\n",
      "Vehicle: Honda, Civic\n",
      "Num of doors: 4\n",
      "Vehicle: Mercedes, 6 class\n",
      "Num of doors: 4\n",
      "Luxury Features: ['leatures seats', 'sunroof']\n"
     ]
    }
   ],
   "source": [
    "class Vehicle:\n",
    "    def __init__(self, make, model):\n",
    "        self.make = make\n",
    "        self.model = model\n",
    "    def display_info(self):\n",
    "        print(f\"Vehicle: {self.make}, {self.model}\")\n",
    "\n",
    "class Car(Vehicle):\n",
    "    def __init__(self, make, model, num_doors):\n",
    "        super().__init__(make, model)\n",
    "        self.num_doors = num_doors\n",
    "\n",
    "    def additional_info(self):\n",
    "        print(f\"Num of doors: {self.num_doors}\")\n",
    "\n",
    "class LuxuryCar(Car):\n",
    "    def __init__(self, make, model, num_doors, features):\n",
    "        super().__init__( make, model, num_doors)\n",
    "        self.features = features\n",
    "\n",
    "    def additional_info(self):\n",
    "        super().additional_info()\n",
    "        print(f\"Luxury Features: {self.features}\")\n",
    "\n",
    "vehicleObj = Vehicle(\"Toyota\", \"Camry\")\n",
    "carObj = Car(\"Honda\", \"Civic\", 4 )\n",
    "luxuryObj = LuxuryCar(\"Mercedes\", \"6 class\", 4,[\"leatures seats\",\"sunroof\"])\n",
    "\n",
    "vehicleObj.display_info()\n",
    "carObj.display_info()\n",
    "carObj.additional_info()\n",
    "luxuryObj.display_info()\n",
    "luxuryObj.additional_info()"
   ]
  },
  {
   "cell_type": "markdown",
   "id": "7affb9db-2050-4ed7-80c4-bf6a00434744",
   "metadata": {},
   "source": [
    "## Task 2: Create a Python program to model a company's employee hierarchy:\n",
    "#### 1. Implement a parent class called Employee with attributes name and position. Include a method display_info to display the employee's name and position.\n",
    "#### 2. Create two child classes Manager and Worker inheriting from Employee. Each should have an additional attribute (department for Manager and hours_worked for Worker) and a method additional_info to display the additional attributes."
   ]
  },
  {
   "cell_type": "code",
   "execution_count": 6,
   "id": "5214255c-d647-4e21-884e-69a537743739",
   "metadata": {},
   "outputs": [
    {
     "name": "stdout",
     "output_type": "stream",
     "text": [
      "Name: Huzaifa, Position: General Employee\n",
      "Name: Ali, Position: Manager\n",
      "Department: Sales\n",
      "Name: Mustafa, Position: Worker\n",
      "Hours Worked: 40\n"
     ]
    }
   ],
   "source": [
    "class Employee:\n",
    "    def __init__(self, name, position):\n",
    "        self.name = name\n",
    "        self.position = position\n",
    "\n",
    "    def display_info(self):\n",
    "        print(f\"Name: {self.name}, Position: {self.position}\")\n",
    "\n",
    "class Manager(Employee):\n",
    "    def __init__(self, name, position, department):\n",
    "        super().__init__(name, position)\n",
    "        self.department = department\n",
    "\n",
    "    def additional_info(self):\n",
    "        print(f\"Department: {self.department}\")\n",
    "\n",
    "class Worker(Employee):\n",
    "    def __init__(self, name, position, hours_worked):\n",
    "        super().__init__(name, position)\n",
    "        self.hours_worked = hours_worked\n",
    "\n",
    "    def additional_info(self):\n",
    "        print(f\"Hours Worked: {self.hours_worked}\")\n",
    "\n",
    "employeeObj = Employee(\"Huzaifa\", \"General Employee\")\n",
    "managerObj = Manager(\"Ali\", \"Manager\", \"Sales\")\n",
    "workerObj = Worker(\"Mustafa\", \"Worker\", 40)\n",
    "\n",
    "employeeObj.display_info()\n",
    "managerObj.display_info()\n",
    "managerObj.additional_info()\n",
    "workerObj.display_info() \n",
    "workerObj.additional_info() \n"
   ]
  },
  {
   "cell_type": "code",
   "execution_count": null,
   "id": "d73d6525-b161-4371-ac44-e7c7d1d2399d",
   "metadata": {},
   "outputs": [],
   "source": []
  }
 ],
 "metadata": {
  "kernelspec": {
   "display_name": "Python 3 (ipykernel)",
   "language": "python",
   "name": "python3"
  },
  "language_info": {
   "codemirror_mode": {
    "name": "ipython",
    "version": 3
   },
   "file_extension": ".py",
   "mimetype": "text/x-python",
   "name": "python",
   "nbconvert_exporter": "python",
   "pygments_lexer": "ipython3",
   "version": "3.11.7"
  }
 },
 "nbformat": 4,
 "nbformat_minor": 5
}
