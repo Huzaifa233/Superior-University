{
 "cells": [
  {
   "cell_type": "markdown",
   "id": "c09fe617-336e-4551-9a09-cf2ba4916da4",
   "metadata": {},
   "source": [
    "# Lab 3 - Task\n",
    "## Task # 1: Create a Python class called Rectangle with the following attributes:\n",
    "#### 1. width (float): representing the width of the rectangle.\n",
    "#### 2. height (float): representing the height of the rectangle.\n",
    "### Implement the following methods for the Rectangle class:\n",
    "#### 1. __init__(self, width, height): Constructor method to initialize the attributes of the rectangle object.\n",
    "#### 2. __str__(self): Method to return a string representation of the rectangle object in the format \"Rectangle: [width] x [height]\".\n",
    "#### 3. area(self): Method to calculate and return the area of the rectangle (width * height).\n",
    "#### 4. perimeter(self): Method to calculate and return the perimeter of the rectangle (2 * (width + height)).\n",
    "### Create an instance of the Rectangle class, initialize its attributes with user input for width and height, and perform the following operations:\n",
    "#### 1. Display the rectangle details using the __str__ method.\n",
    "#### 2. Calculate and display the area of the rectangle using the area method.\n",
    "#### 3. Calculate and display the perimeter of the rectangle using the perimeter method."
   ]
  },
  {
   "cell_type": "code",
   "execution_count": 3,
   "id": "35771355-eafd-43ff-8407-d0de56085711",
   "metadata": {},
   "outputs": [
    {
     "name": "stdin",
     "output_type": "stream",
     "text": [
      "Enter Width : 10\n",
      "Enter Height : 20\n"
     ]
    },
    {
     "name": "stdout",
     "output_type": "stream",
     "text": [
      "Rectangle : 10 x 20\n",
      "Area of Rectangle : 200\n",
      "Perimeter of Rectangle : 60\n"
     ]
    }
   ],
   "source": [
    "class Rectangle:\n",
    "    def __init__(self, width, height):\n",
    "        self.width = width\n",
    "        self.height = height\n",
    "\n",
    "    def __str__(self):\n",
    "        return f\"Rectangle : {self.width} x {self.height}\"\n",
    "\n",
    "    def area(self):\n",
    "        return self.width * self.height\n",
    "\n",
    "    def perimeter(self):\n",
    "        return 2 * (self.width + self.height)\n",
    "\n",
    "width = int(input(\"Enter Width :\"))\n",
    "height = int(input(\"Enter Height :\"))\n",
    "\n",
    "Rect = Rectangle(width, height)\n",
    "\n",
    "print(Rect)\n",
    "print(\"Area of Rectangle :\", Rect.area())\n",
    "print(\"Perimeter of Rectangle :\", Rect.perimeter())\n",
    "\n",
    "\n"
   ]
  },
  {
   "cell_type": "code",
   "execution_count": null,
   "id": "cc976ceb-a5d5-4556-a50a-6348bbffe55c",
   "metadata": {},
   "outputs": [],
   "source": []
  }
 ],
 "metadata": {
  "kernelspec": {
   "display_name": "Python 3 (ipykernel)",
   "language": "python",
   "name": "python3"
  },
  "language_info": {
   "codemirror_mode": {
    "name": "ipython",
    "version": 3
   },
   "file_extension": ".py",
   "mimetype": "text/x-python",
   "name": "python",
   "nbconvert_exporter": "python",
   "pygments_lexer": "ipython3",
   "version": "3.11.7"
  }
 },
 "nbformat": 4,
 "nbformat_minor": 5
}
