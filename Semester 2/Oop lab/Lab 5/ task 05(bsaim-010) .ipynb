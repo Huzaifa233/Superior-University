{
 "cells": [
  {
   "cell_type": "markdown",
   "id": "f915794d-18f2-4b91-a9de-58af64e9d10d",
   "metadata": {},
   "source": [
    "# Lab 5 - Task:"
   ]
  },
  {
   "cell_type": "markdown",
   "id": "74ee0d75-9d15-4ae0-9d2a-75b9541199b1",
   "metadata": {},
   "source": [
    "###  Create a Python program to model a library system\n",
    "#### 1. Implement a parent class called Item with attributes title and author, and a method display_info to display the title and author of the item.\n",
    "#### 2. Then create two child classes Book and Magazine inheriting from Item, each with an additional attribute (pages for Book and issue_number for Magazine) and a method additional_info to display the additional attributes."
   ]
  },
  {
   "cell_type": "code",
   "execution_count": 6,
   "id": "61ce5eec-140c-45a2-806f-31c42b7e22f0",
   "metadata": {},
   "outputs": [
    {
     "name": "stdout",
     "output_type": "stream",
     "text": [
      "Title: The Quran, Author: Various\n",
      "Num of Pages: 600\n",
      "Title: The Muslim Observer, Author: Various\n",
      "Issue Number: 202\n"
     ]
    }
   ],
   "source": [
    "class Items:\n",
    "    def __init__(self, title, author):\n",
    "        self.title = title\n",
    "        self.author = author\n",
    "\n",
    "    def display_info(self):\n",
    "        print(f\"Title: {self.title}, Author: {self.author}\")\n",
    "\n",
    "class Book(Items): \n",
    "    def __init__(self, title, author, pages):\n",
    "        super().__init__(title, author)\n",
    "        self.pages = pages\n",
    "\n",
    "    def additional_info(self):\n",
    "        print(f\"Num of Pages: {self.pages}\")\n",
    "\n",
    "class Magazine(Items):\n",
    "    def __init__(self, title, author, issue_number):\n",
    "        super().__init__(title, author)\n",
    "        self.issue_number = issue_number\n",
    "\n",
    "    def additional_info(self):\n",
    "        print(f\"Issue Number: {self.issue_number}\")\n",
    "\n",
    "book = Book(\"The Quran\", \"Various\", 600)\n",
    "magazine =  Magazine(\"The Muslim Observer\", \"Various\", 202)\n",
    "\n",
    "book.display_info()\n",
    "book.additional_info()\n",
    "\n",
    "magazine.display_info()\n",
    "magazine.additional_info()    "
   ]
  }
 ],
 "metadata": {
  "kernelspec": {
   "display_name": "Python 3 (ipykernel)",
   "language": "python",
   "name": "python3"
  },
  "language_info": {
   "codemirror_mode": {
    "name": "ipython",
    "version": 3
   },
   "file_extension": ".py",
   "mimetype": "text/x-python",
   "name": "python",
   "nbconvert_exporter": "python",
   "pygments_lexer": "ipython3",
   "version": "3.11.7"
  }
 },
 "nbformat": 4,
 "nbformat_minor": 5
}
