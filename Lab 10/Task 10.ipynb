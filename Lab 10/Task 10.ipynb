{
 "cells": [
  {
   "cell_type": "code",
   "execution_count": null,
   "id": "a4e832e5-bf29-4337-8e83-2c30fb9f4857",
   "metadata": {},
   "outputs": [],
   "source": []
  },
  {
   "cell_type": "code",
   "execution_count": 1,
   "id": "5fa20d22-e81c-41e8-96fe-340bbdec68ca",
   "metadata": {},
   "outputs": [
    {
     "name": "stdout",
     "output_type": "stream",
     "text": [
      "\n",
      " Employee Management System\n",
      "1. Add Employee\n",
      "2. Display All Employee\n",
      "3. Update Employee\n",
      "4. Delete Employee\n",
      "5. Exit\n"
     ]
    },
    {
     "name": "stdin",
     "output_type": "stream",
     "text": [
      "Enter your choice:  1\n",
      "Enter employee type(Manager/Worker):  Manager\n",
      "Enter name:  Huzaifa\n",
      "Enter age:  20\n",
      "Enter salary:  10000\n",
      "Enter dept:  AI\n"
     ]
    },
    {
     "name": "stdout",
     "output_type": "stream",
     "text": [
      "Employee added successfully.\n",
      "\n",
      " Employee Management System\n",
      "1. Add Employee\n",
      "2. Display All Employee\n",
      "3. Update Employee\n",
      "4. Delete Employee\n",
      "5. Exit\n"
     ]
    },
    {
     "name": "stdin",
     "output_type": "stream",
     "text": [
      "Enter your choice:  1\n",
      "Enter employee type(Manager/Worker):  Worker\n",
      "Enter name:  Jawad\n",
      "Enter age:  20\n",
      "Enter salary:  100000\n",
      "Enter Hours Worked:  18\n"
     ]
    },
    {
     "name": "stdout",
     "output_type": "stream",
     "text": [
      "Employee added successfully.\n",
      "\n",
      " Employee Management System\n",
      "1. Add Employee\n",
      "2. Display All Employee\n",
      "3. Update Employee\n",
      "4. Delete Employee\n",
      "5. Exit\n"
     ]
    },
    {
     "name": "stdin",
     "output_type": "stream",
     "text": [
      "Enter your choice:  2\n"
     ]
    },
    {
     "name": "stdout",
     "output_type": "stream",
     "text": [
      "Name: Huzaifa\n",
      "Age: 20\n",
      "Salary: 10000.0\n",
      "Dept: AI\n",
      "------------------------------\n",
      "Name: Jawad\n",
      "Age: 20\n",
      "Salary: 100000.0\n",
      "Hours Worked: 18\n",
      "------------------------------\n",
      "\n",
      " Employee Management System\n",
      "1. Add Employee\n",
      "2. Display All Employee\n",
      "3. Update Employee\n",
      "4. Delete Employee\n",
      "5. Exit\n"
     ]
    },
    {
     "name": "stdin",
     "output_type": "stream",
     "text": [
      "Enter your choice:  3\n",
      "Enter the name of the employee to update: Jawad\n",
      "Enter new name:  22\n",
      "Enter new age:  20\n",
      "Enter new salary: 100000\n",
      "Enter new hours worked:  17\n"
     ]
    },
    {
     "name": "stdout",
     "output_type": "stream",
     "text": [
      "Employee updated successfully.\n",
      "\n",
      " Employee Management System\n",
      "1. Add Employee\n",
      "2. Display All Employee\n",
      "3. Update Employee\n",
      "4. Delete Employee\n",
      "5. Exit\n"
     ]
    },
    {
     "name": "stdin",
     "output_type": "stream",
     "text": [
      "Enter your choice:  4\n",
      "Enter name of employee to delete:  22\n"
     ]
    },
    {
     "name": "stdout",
     "output_type": "stream",
     "text": [
      "Employees deleted successfully.\n",
      "\n",
      " Employee Management System\n",
      "1. Add Employee\n",
      "2. Display All Employee\n",
      "3. Update Employee\n",
      "4. Delete Employee\n",
      "5. Exit\n"
     ]
    },
    {
     "name": "stdin",
     "output_type": "stream",
     "text": [
      "Enter your choice:  1\n",
      "Enter employee type(Manager/Worker):  Jawad\n",
      "Enter name:  11\n",
      "Enter age:  11\n",
      "Enter salary:  111\n"
     ]
    },
    {
     "name": "stdout",
     "output_type": "stream",
     "text": [
      "Invalid employee type.\n",
      "\n",
      " Employee Management System\n",
      "1. Add Employee\n",
      "2. Display All Employee\n",
      "3. Update Employee\n",
      "4. Delete Employee\n",
      "5. Exit\n"
     ]
    },
    {
     "name": "stdin",
     "output_type": "stream",
     "text": [
      "Enter your choice:  1\n",
      "Enter employee type(Manager/Worker):  Worker\n",
      "Enter name:  Jawad\n",
      "Enter age:  20\n",
      "Enter salary:  100000\n",
      "Enter Hours Worked:  17\n"
     ]
    },
    {
     "name": "stdout",
     "output_type": "stream",
     "text": [
      "Employee added successfully.\n",
      "\n",
      " Employee Management System\n",
      "1. Add Employee\n",
      "2. Display All Employee\n",
      "3. Update Employee\n",
      "4. Delete Employee\n",
      "5. Exit\n"
     ]
    },
    {
     "name": "stdin",
     "output_type": "stream",
     "text": [
      "Enter your choice:  1\n",
      "Enter employee type(Manager/Worker):  manager\n",
      "Enter name:  Ali\n",
      "Enter age:  21\n",
      "Enter salary:  2000000\n",
      "Enter dept:  SE\n"
     ]
    },
    {
     "name": "stdout",
     "output_type": "stream",
     "text": [
      "Employee added successfully.\n",
      "\n",
      " Employee Management System\n",
      "1. Add Employee\n",
      "2. Display All Employee\n",
      "3. Update Employee\n",
      "4. Delete Employee\n",
      "5. Exit\n"
     ]
    },
    {
     "name": "stdin",
     "output_type": "stream",
     "text": [
      "Enter your choice:  2\n"
     ]
    },
    {
     "name": "stdout",
     "output_type": "stream",
     "text": [
      "Name: Huzaifa\n",
      "Age: 20\n",
      "Salary: 10000.0\n",
      "Dept: AI\n",
      "------------------------------\n",
      "Name: Jawad\n",
      "Age: 20\n",
      "Salary: 100000.0\n",
      "Hours Worked: 17\n",
      "------------------------------\n",
      "Name: Ali\n",
      "Age: 21\n",
      "Salary: 2000000.0\n",
      "Dept: SE\n",
      "------------------------------\n",
      "\n",
      " Employee Management System\n",
      "1. Add Employee\n",
      "2. Display All Employee\n",
      "3. Update Employee\n",
      "4. Delete Employee\n",
      "5. Exit\n"
     ]
    },
    {
     "name": "stdin",
     "output_type": "stream",
     "text": [
      "Enter your choice:  5\n"
     ]
    },
    {
     "name": "stdout",
     "output_type": "stream",
     "text": [
      "Existing the program.\n"
     ]
    }
   ],
   "source": [
    "import csv\n",
    "class Employee:\n",
    "    def __init__(self, name, age, salary):\n",
    "        self.__name = name\n",
    "        self.__age = age\n",
    "        self.__salary = salary\n",
    "\n",
    "    def get_name(self):\n",
    "        return self.__name\n",
    "\n",
    "    def set_name(self, name):\n",
    "        self.__name = name\n",
    "\n",
    "    def get_age(self):\n",
    "        return self.__age\n",
    "\n",
    "    def set_age(self, age):\n",
    "        self.__age = age\n",
    "        \n",
    "    def get_salary(self):\n",
    "        return self.__salary\n",
    "\n",
    "    def set_salary(self, salary):\n",
    "        self.__salary = salary\n",
    "\n",
    "class Manager(Employee):\n",
    "    def __init__(self, name, age, salary, dept):\n",
    "        super().__init__(name, age, salary)\n",
    "        self.__dept = dept\n",
    "\n",
    "    def get_dept(self):\n",
    "        return self.__dept\n",
    "\n",
    "    def set_dept(self, dept):\n",
    "        self.__dept = dept\n",
    "\n",
    "class Worker(Employee):\n",
    "    def __init__(self, name, age, salary, hours_worked):\n",
    "        super().__init__(name, age, salary)\n",
    "        self.__hours_worked = hours_worked\n",
    "\n",
    "    def get_hours_worked(self):\n",
    "        return self.__hours_worked\n",
    "\n",
    "    def set_hours_worked(self, hours_worked):\n",
    "        self.__hours_worked = hours_worked\n",
    "\n",
    "\n",
    "filename = \"employee.csv\"\n",
    "\n",
    "def load_employees():\n",
    "    employees= []\n",
    "    try:\n",
    "        with open(filename, mode = \"r\") as file:\n",
    "            csv_reader = csv.DictReader(file)\n",
    "            for row in csv_reader:\n",
    "                if row[\"dept\"]:\n",
    "                    employees.append(Manager(row[\"name\"], int(row[\"age\"]), float(row[\"salary\"]), row[\"dept\"]))\n",
    "\n",
    "                elif row[\"hours_worked\"]:\n",
    "                    employees.append(Worker(row[\"name\"],int(row[\"age\"]), float(row[\"salary\"]),int(row[\"hours_worked\"])))\n",
    "\n",
    "\n",
    "    except FileNotFoundError:\n",
    "        pass\n",
    "\n",
    "    return employees\n",
    "\n",
    "\n",
    "def save_employees(employees):\n",
    "    with open(filename, mode = \"w\", newline= \"\") as file:\n",
    "        fieldnames = [\"name\", \"age\", \"salary\", \"dept\", \"hours_worked\"]\n",
    "        csv_writer = csv.DictWriter(file, fieldnames = fieldnames)\n",
    "        csv_writer.writeheader()\n",
    "        for emp in employees:\n",
    "            if isinstance(emp, Manager):\n",
    "                csv_writer.writerow({\n",
    "                    \"name\" : emp.get_name(),\n",
    "                    \"age\": emp.get_age(),\n",
    "                    \"salary\": emp.get_salary(),\n",
    "                    \"dept\" : emp.get_dept(),\n",
    "                    \"hours_worked\": \"\"\n",
    "                })\n",
    "            elif isinstance(emp, Worker):\n",
    "                csv_writer.writerow({\n",
    "                    \"name\": emp.get_name(),\n",
    "                    \"age\" : emp.get_age(),\n",
    "                    \"salary\" : emp.get_salary(),\n",
    "                    \"dept\" : \"\",\n",
    "                    \"hours_worked\" : emp.get_hours_worked()\n",
    "                })\n",
    "\n",
    "\n",
    "def add_employee():\n",
    "    emp_type = input(\"Enter employee type(Manager/Worker): \").strip().lower()\n",
    "    name = input(\"Enter name: \")\n",
    "    age = int(input(\"Enter age: \"))\n",
    "    salary = float(input(\"Enter salary: \"))\n",
    "\n",
    "    if emp_type == \"manager\":\n",
    "        dept = input(\"Enter dept: \")\n",
    "        new_employee = Manager(name, age, salary, dept)\n",
    "\n",
    "    elif emp_type == \"worker\":\n",
    "        hours_worked = int(input(\"Enter Hours Worked: \"))\n",
    "        new_employee = Worker(name, age, salary, hours_worked)\n",
    "\n",
    "    else:\n",
    "        print(\"Invalid employee type.\")\n",
    "        return None\n",
    "\n",
    "    employees = load_employees()\n",
    "    employees.append(new_employee)\n",
    "    save_employees(employees)\n",
    "    print(\"Employee added successfully.\")\n",
    "\n",
    "\n",
    "def display_employees():\n",
    "    employees = load_employees()\n",
    "    if not employees:\n",
    "        print(\"No employees found.\")\n",
    "        return\n",
    "\n",
    "    for emp in employees:\n",
    "        print(\"Name:\", emp.get_name())\n",
    "        print(\"Age:\", emp.get_age())\n",
    "        print(\"Salary:\", emp.get_salary())\n",
    "        if isinstance(emp, Manager):\n",
    "            print(\"Dept:\", emp.get_dept())\n",
    "\n",
    "        elif isinstance(emp, Worker):\n",
    "            print(\"Hours Worked:\", emp.get_hours_worked())\n",
    "\n",
    "        print(\"-\" * 30)\n",
    "\n",
    "\n",
    "def update_employee():\n",
    "    name = input(\"Enter the name of the employee to update:\")\n",
    "    employees = load_employees()\n",
    "    for emp in employees:\n",
    "        if emp.get_name().lower() == name.lower():\n",
    "            new_name = input(\"Enter new name: \")\n",
    "            if new_name:\n",
    "                emp.set_name(new_name)\n",
    "\n",
    "            new_age = input(\"Enter new age: \")\n",
    "            if new_age:\n",
    "                emp.set_age(int(new_age))\n",
    "\n",
    "            new_salary = input(\"Enter new salary:\")\n",
    "            if new_salary:\n",
    "                emp.set_salary(float(new_salary))\n",
    "\n",
    "            if isinstance(emp, Manager):\n",
    "                new_dept = input(\"Enter new departmant:\")\n",
    "                if new_dept:\n",
    "                    emp.set_dept(new_dept)\n",
    "\n",
    "            elif isinstance(emp, Worker):\n",
    "                new_hours = input(\"Enter new hours worked: \")\n",
    "                if new_hours:\n",
    "                    emp.set_hours_worked(int(new_hours))\n",
    "\n",
    "            save_employees(employees)\n",
    "            print(\"Employee updated successfully.\")\n",
    "            return\n",
    "\n",
    "    print(\"Employee not found.\")\n",
    "\n",
    "\n",
    "def delete_employee():\n",
    "    name = input(\"Enter name of employee to delete: \")\n",
    "    employees = load_employees()\n",
    "    updated_employees = [emp for emp in employees if emp.get_name().lower() != name.lower()]\n",
    "\n",
    "    if len(updated_employees) == len(employees):\n",
    "        print(\"Employee not found.\")\n",
    "\n",
    "    else: \n",
    "        save_employees(updated_employees)\n",
    "        print(\"Employees deleted successfully.\")\n",
    "\n",
    "\n",
    "def user_interface():\n",
    "    while True:\n",
    "        print(\"\\n Employee Management System\")\n",
    "        print(\"1. Add Employee\")\n",
    "        print(\"2. Display All Employee\")\n",
    "        print(\"3. Update Employee\")\n",
    "        print(\"4. Delete Employee\")\n",
    "        print(\"5. Exit\")\n",
    "\n",
    "        choice = input(\"Enter your choice: \").strip()\n",
    "\n",
    "        if choice == \"1\":\n",
    "            add_employee()\n",
    "\n",
    "        elif choice == \"2\":\n",
    "            display_employees()\n",
    "\n",
    "        elif choice == \"3\":\n",
    "            update_employee()\n",
    "\n",
    "        elif choice == \"4\":\n",
    "            delete_employee()\n",
    "\n",
    "        elif choice == \"5\":\n",
    "            print(\"Existing the program.\")\n",
    "            break\n",
    "\n",
    "        else:\n",
    "            print(\"Invalid choice.\")\n",
    "\n",
    "if __name__ == \"__main__\":\n",
    "    user_interface()"
   ]
  },
  {
   "cell_type": "code",
   "execution_count": null,
   "id": "d0c8faf2-783e-4e24-8809-027a7ed7114c",
   "metadata": {},
   "outputs": [],
   "source": []
  }
 ],
 "metadata": {
  "kernelspec": {
   "display_name": "Python 3 (ipykernel)",
   "language": "python",
   "name": "python3"
  },
  "language_info": {
   "codemirror_mode": {
    "name": "ipython",
    "version": 3
   },
   "file_extension": ".py",
   "mimetype": "text/x-python",
   "name": "python",
   "nbconvert_exporter": "python",
   "pygments_lexer": "ipython3",
   "version": "3.11.7"
  }
 },
 "nbformat": 4,
 "nbformat_minor": 5
}
