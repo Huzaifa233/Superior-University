{
 "cells": [
  {
   "cell_type": "markdown",
   "id": "5add9776-1a65-4039-a378-995412afa00a",
   "metadata": {},
   "source": [
    "# LAB 9- TASK"
   ]
  },
  {
   "cell_type": "code",
   "execution_count": null,
   "id": "b99aee71-d936-4282-a5ef-fbe58d4ebd3b",
   "metadata": {},
   "outputs": [],
   "source": [
    "import csv\n",
    "\n",
    "class Document: \n",
    "    def __init__(self, title, author):\n",
    "        self.title = title\n",
    "        self.author = author\n",
    "\n",
    "    def display_info(self):\n",
    "        print(f\"Title: {self.title}, Author: {self.author}\")\n",
    "        "
   ]
  },
  {
   "cell_type": "code",
   "execution_count": null,
   "id": "690379e5-d07c-4a66-8a24-cd38bcaffffc",
   "metadata": {},
   "outputs": [],
   "source": [
    "class Book(Document):\n",
    "    def __init__(self, title, author, genre= None, pages= None):\n",
    "        super().__init__(title, author)\n",
    "        self.genre = genre\n",
    "        self.pages = pages\n",
    "\n",
    "    def display_info(self):\n",
    "        super().display_info()\n",
    "        if self.genre:\n",
    "            print(f\"Genre: {self.genre}\")\n",
    "\n",
    "        if self.pages:\n",
    "            print(f\"Pages:{self.pages}\")"
   ]
  },
  {
   "cell_type": "code",
   "execution_count": null,
   "id": "e443ad8d-bf9f-4a62-820f-87704d83d81a",
   "metadata": {},
   "outputs": [],
   "source": [
    "class Article(Document):\n",
    "    def __init__(self, title, author, journal=None, DOI = None):\n",
    "        super().__init__(title, author)\n",
    "        self.journal = journal\n",
    "        self.DOI = DOI\n",
    "        \n",
    "    def display_info(self):\n",
    "        super().display_info()\n",
    "        if self.journal:\n",
    "            print(f\"Journal:{self.journal}\")\n",
    "        if self.DOI:\n",
    "            print(f\"DOI: {self.DOI}\")"
   ]
  },
  {
   "cell_type": "code",
   "execution_count": null,
   "id": "aec3ed61-1dbe-4477-a5c0-1ecd868bd0f6",
   "metadata": {},
   "outputs": [],
   "source": [
    "def save_to_csv(documents, filename= \"documents.csv\"):\n",
    "    with open(filename, mode=\"w\", newline=\"\") as file:\n",
    "        writer = csv.writer(file)\n",
    "        writer.writerow([\"type\", \"title\", \"author\", \"genre\", \"pages\", \"journal\", \"DOI\"])\n",
    "\n",
    "        for doc in documents:\n",
    "            if isinstance(doc, Book):\n",
    "                writer.writerow([\"book\", doc.title, doc.author, doc.genre, doc.pages, \"\", \"\"])\n",
    "            elif isinstance(doc, Article):\n",
    "                writer.writerow([\"Article\", doc.title, doc.author, \"\", \"\", doc.journal, doc.DOI ])"
   ]
  },
  {
   "cell_type": "code",
   "execution_count": null,
   "id": "a0f109db-bda0-41ee-8847-352baea35261",
   "metadata": {},
   "outputs": [],
   "source": [
    "def load_from_csv(filename = \"documents.csv\"):\n",
    "    ducuments = []\n",
    "    with open(filename, mode= \"r\", newline=\"\") as file:\n",
    "        reader = csv.DictReader(file)\n",
    "        for row  in reader:\n",
    "            doc_type = row[\"type\"].strip().lower()\n",
    "            title = row[\"title\"].strip()\n",
    "            author = row[\"author\"].strip()\n",
    "\n",
    "            if doc_type == \"book\":\n",
    "                genre = row[\"genre\"].strip() if row[\"genre\"].strip() else None\n",
    "                pages = int(row[\"pages\"]) if row[\"pages\"].strip() else None\n",
    "                documents.append(Book(title,author, genre, pages))\n",
    "\n",
    "\n",
    "            elif doc_type ==\"article\":\n",
    "                journal = row[\"journal\"].strip() if row[\"journal\"].strip() else None\n",
    "                DOI = float(row[\"DOI\"]) if row[\"DOI\"].strip() else None\n",
    "                documents.append(Article(title, author, journal, DOI))\n",
    "\n",
    "    return documents"
   ]
  },
  {
   "cell_type": "code",
   "execution_count": 3,
   "id": "4415f3b7-6a02-42de-88e1-b6cb33423575",
   "metadata": {},
   "outputs": [
    {
     "name": "stdout",
     "output_type": "stream",
     "text": [
      "Displaying documents:\n",
      "Title: Python , Author: Huzaifa\n",
      "Genre: Education\n",
      "Pages: 350\n",
      "\n",
      "Title: C++ , Author: Ali\n",
      "\n",
      "Title: AI, Author: Talha\n",
      "Journal: Medical\n",
      "DOI: 10.123\n",
      "\n",
      "Title: SE, Author: Dr.Ahmad\n",
      "\n",
      "Documents have been saved in csv file.\n",
      "Loaded documents from csv file:\n",
      "Title: Python, Author: Huzaifa\n",
      "Genre: Education\n",
      "Pages: 350\n",
      "\n",
      "Title: C++, Author: Ali\n",
      "\n",
      "Title: AI, Author: Talha\n",
      "Journal: Medical\n",
      "DOI: 10.123\n",
      "\n",
      "Title: SE, Author: Dr.Ahmad\n",
      "\n"
     ]
    }
   ],
   "source": [
    "if __name__ == \"__main__\":\n",
    "    book_1 = Book(\"Python \", \"Huzaifa\", \"Education\", 350)\n",
    "    book_2 = Book(\"C++ \", \"Ali\")\n",
    "    article_1 = Article(\"AI\", \"Talha\", \"Medical\", 10.123)\n",
    "    article_2 = Article(\"SE\", \"Dr.Ahmad\")\n",
    "\n",
    "    documents = [book_1, book_2, article_1, article_2]\n",
    "  \n",
    "    print(\"Displaying documents:\")\n",
    "    for doc in documents:\n",
    "        doc.display_info()\n",
    "        print()\n",
    "\n",
    "    save_to_csv(documents)\n",
    "    print(\"Documents have been saved in csv file.\")\n",
    "\n",
    "    loaded_documents = load_from_csv()\n",
    "    print(\"Loaded documents from csv file:\")\n",
    "    for doc in loaded_documents:\n",
    "        doc.display_info()\n",
    "        print()"
   ]
  },
  {
   "cell_type": "code",
   "execution_count": null,
   "id": "4a548ec1-ac22-4667-89e1-6787729132e4",
   "metadata": {},
   "outputs": [],
   "source": []
  }
 ],
 "metadata": {
  "kernelspec": {
   "display_name": "Python 3 (ipykernel)",
   "language": "python",
   "name": "python3"
  },
  "language_info": {
   "codemirror_mode": {
    "name": "ipython",
    "version": 3
   },
   "file_extension": ".py",
   "mimetype": "text/x-python",
   "name": "python",
   "nbconvert_exporter": "python",
   "pygments_lexer": "ipython3",
   "version": "3.11.7"
  }
 },
 "nbformat": 4,
 "nbformat_minor": 5
}
