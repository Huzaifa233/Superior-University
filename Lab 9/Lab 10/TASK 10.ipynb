{
 "cells": [
  {
   "cell_type": "markdown",
   "id": "9869930b-943d-4581-b66f-25056dd17195",
   "metadata": {},
   "source": [
    "# TASK 10"
   ]
  },
  {
   "cell_type": "code",
   "execution_count": 1,
   "id": "37daf5e0-3b7a-46e8-8a4f-da62036ceb6a",
   "metadata": {},
   "outputs": [],
   "source": [
    "import csv\n",
    "class Employee:\n",
    "    def __init__(self, name, age, salary):\n",
    "        self.__name = name\n",
    "        self.__age = age\n",
    "        self.__salary = salary\n",
    "\n",
    "    def get_name(self):\n",
    "        return self.__name\n",
    "\n",
    "    def set_name(self, name):\n",
    "        self.__name = name\n",
    "\n",
    "    def get_age(self):\n",
    "        return self.__age\n",
    "\n",
    "    def set_age(self, age):\n",
    "        self.__age = age\n",
    "        \n",
    "    def get_salary(self):\n",
    "        return self.__salary\n",
    "\n",
    "    def set_salary(self, salary):\n",
    "        self.__salary = salary\n",
    "\n",
    "\n",
    "class Manager(Employee):\n",
    "    def __init__(self, name, age, salary, dept):\n",
    "        super().__init__(name, age, salary)\n",
    "        self.__dept = dept\n",
    "\n",
    "    def get_dept(self):\n",
    "        return self.__dept\n",
    "\n",
    "    def set_dept(self, dept):\n",
    "        self.__dept = dep\n",
    "\n",
    "\n",
    "\n",
    "class Worker(Employee):\n",
    "    def __init__(self, name, age, salary, hours_worked):\n",
    "        super().__init__(name, age, salary)\n",
    "        self.__hours_worked = hours_worked\n",
    "\n",
    "    def get_hours_worked(self):\n",
    "        return self.__hours_worked\n",
    "\n",
    "    def set_hours_worked(self, hours_worked):\n",
    "        self.__hours_worked = hours_worked\n",
    "\n"
   ]
  },
  {
   "cell_type": "code",
   "execution_count": 4,
   "id": "18109660-c5f0-4956-8e02-1baf7d031021",
   "metadata": {},
   "outputs": [],
   "source": [
    "filename = \"employee.csv\"\n",
    "\n",
    "def load_employees():\n",
    "    employees= []\n",
    "    try:\n",
    "        with open(filename, mode = \"r\") as file:\n",
    "            csv_reader = csv.DictReader(file)\n",
    "            for row in csv_reader:\n",
    "                if row[\"dept\"]:\n",
    "                    employees.append(Manager(row[\"name\"], int(row[\"age\"]), float(row[\"salary\"]), row[\"dept\"]))\n",
    "\n",
    "                elif row[\"hours_worked\"]:\n",
    "                    employees.append(Worker(row[\"name\"],int(row[\"age\"]), float(row[\"salary\"]),int(row[\"hours_worked\"])))\n",
    "\n",
    "\n",
    "    except FileNotFoundError:\n",
    "        pass\n",
    "\n",
    "    return employees\n",
    "\n",
    "\n",
    "def save_employees(employees):\n",
    "    with open(filename, mode = \"w\", newline= \"\") as file:\n",
    "        fieldnames = [\"name\", \"age\", \"salary\", \"dept\", \"hours_worked\"]\n",
    "        csv_writer = csv.DictWriter(file, fieldnames = fieldnames)\n",
    "        csv_writer.writeheader()\n",
    "        for emp in employees:\n",
    "            if isinstance(emp, Manager):\n",
    "                csv_writer.writerow({\n",
    "                    \"name\" : emp.get_name(),\n",
    "                    \"age\": emp.get_age(),\n",
    "                    \"salary\": emp.get_salary(),\n",
    "                    \"dept\" : emp.get_dept(),\n",
    "                    \"hours_worked\": \"\"\n",
    "                })\n",
    "            elif isinstance(emp, Worker):\n",
    "                csv_writer.writerow({\n",
    "                    \"name\": emp.get_name(),\n",
    "                    \"age\" : emp.get_age(),\n",
    "                    \"salary\" : emp.get_salary(),\n",
    "                    \"dept\" : \"\",\n",
    "                    \"hours_worked\" : emp.get_hours_worked()\n",
    "                })\n"
   ]
  },
  {
   "cell_type": "code",
   "execution_count": 11,
   "id": "61fae79e-293e-46a5-922e-313c49ebf899",
   "metadata": {},
   "outputs": [],
   "source": [
    "def add_employee():\n",
    "    emp_type = input(\"Enter employee type(Manager/Worker): \").strip().lower()\n",
    "    name = input(\"Enter name: \")\n",
    "    age = int(input(\"Enter age: \"))\n",
    "    salary = float(input(\"Enter salary: \"))\n",
    "\n",
    "    if emp_type == \"manager\":\n",
    "        dept = input(\"Enter dept: \")\n",
    "        new_employee = Manager(name, age, salary, dept)\n",
    "\n",
    "    elif emp_type == \"worker\":\n",
    "        hours_worked = int(input(\"Enter Hours Worked: \"))\n",
    "        new_employee = Worker(name, age, salary, hours_worked)\n",
    "\n",
    "    else:\n",
    "        print(\"Invalid employee type.\")\n",
    "        return None\n",
    "\n",
    "    employees = load_employees()\n",
    "    employees.append(new_employee)\n",
    "    save_employees(employees)\n",
    "    print(\"Employee added successfully.\")\n",
    "\n",
    "\n",
    "\n",
    "\n",
    "\n",
    "\n",
    "def display_employees():\n",
    "    employees = load_employees()\n",
    "    if not employees:\n",
    "        print(\"No employees found.\")\n",
    "        return\n",
    "\n",
    "    for emp in employees:\n",
    "        print(\"Name:\", emp.get_name())\n",
    "        print(\"Age:\", emp.get_age())\n",
    "        print(\"Salary:\", emp.get_salary())\n",
    "        if isinstance(emp, Manager):\n",
    "            print(\"Dept:\", emp.get_dept())\n",
    "\n",
    "        elif isinstance(emp, Worker):\n",
    "            print(\"Hours Worked:\", emp.get_hours_worked())\n",
    "\n",
    "        print(\"-\" * 30)\n",
    "\n",
    "\n",
    "\n",
    "\n",
    "def update_employee():\n",
    "    name = input(\"Enter the name of the employee to update:\")\n",
    "    employees = load_employees()\n",
    "    for emp in employees:\n",
    "        if emp.get_name().lower() == name.lower():\n",
    "            new_name = input(\"Enter new name: \")\n",
    "            if new_name:\n",
    "                emp.set_name(new_name)\n",
    "\n",
    "            new_age = input(\"Enter new age: \")\n",
    "            if new_age:\n",
    "                emp.set_age(int(new_age))\n",
    "\n",
    "            new_salary = input(\"Enter new salary:\")\n",
    "            if new_salary:\n",
    "                emp.set_salary(float(new_salary))\n",
    "\n",
    "            if isinstance(emp, Manager):\n",
    "                new_dept = input(\"Enter new departmant:\")\n",
    "                if new_dept:\n",
    "                    emp.set_dept(new_dept)\n",
    "\n",
    "            elif isinstance(emp, Worker):\n",
    "                new_hours = input(\"Enter new hours worked: \")\n",
    "                if new_hours:\n",
    "                    emp.set_hours_worked(int(new_hours))\n",
    "\n",
    "            save_employees(employees)\n",
    "            print(\"Employee updated successfully.\")\n",
    "            return\n",
    "\n",
    "    print(\"Employee not found.\")\n",
    "\n",
    "\n",
    "\n",
    "def delete_employee():\n",
    "    name = input(\"Enter name of employee to delete: \")\n",
    "    employees = load_employees()\n",
    "    updated_employees = [emp for emp in employees if emp.get_name().lower() != name.lower()]\n",
    "\n",
    "    if len(updated_employees) == len(employees):\n",
    "        print(\"Employee not found.\")\n",
    "\n",
    "    else: \n",
    "        save_employees(updated_employees)\n",
    "        print(\"Employees deleted successfully.\")\n"
   ]
  },
  {
   "cell_type": "code",
   "execution_count": 10,
   "id": "abb56c26-2b52-486d-a796-9fda308b9ad7",
   "metadata": {},
   "outputs": [
    {
     "name": "stdout",
     "output_type": "stream",
     "text": [
      "\n",
      " Employee Management System\n",
      "1. Add Employee\n",
      "2. Display All Employee\n",
      "3. Update Employee\n",
      "4. Delete Employee\n",
      "5. Exit\n"
     ]
    },
    {
     "name": "stdin",
     "output_type": "stream",
     "text": [
      "Enter your choice:  1\n",
      "Enter employee type(Manager/Worker):  manager\n",
      "Enter name:  Huzaifa\n",
      "Enter age:  20\n",
      "Enter salary:  20000\n",
      "Enter dept:  AI\n"
     ]
    },
    {
     "name": "stdout",
     "output_type": "stream",
     "text": [
      "Employee added successfully.\n",
      "\n",
      " Employee Management System\n",
      "1. Add Employee\n",
      "2. Display All Employee\n",
      "3. Update Employee\n",
      "4. Delete Employee\n",
      "5. Exit\n"
     ]
    },
    {
     "name": "stdin",
     "output_type": "stream",
     "text": [
      "Enter your choice:  1\n",
      "Enter employee type(Manager/Worker):  worker\n",
      "Enter name:  Jawad\n",
      "Enter age:  20\n",
      "Enter salary:  30000\n",
      "Enter Hours Worked:  24\n"
     ]
    },
    {
     "name": "stdout",
     "output_type": "stream",
     "text": [
      "Employee added successfully.\n",
      "\n",
      " Employee Management System\n",
      "1. Add Employee\n",
      "2. Display All Employee\n",
      "3. Update Employee\n",
      "4. Delete Employee\n",
      "5. Exit\n"
     ]
    },
    {
     "name": "stdin",
     "output_type": "stream",
     "text": [
      "Enter your choice:  2\n"
     ]
    },
    {
     "name": "stdout",
     "output_type": "stream",
     "text": [
      "Name: Huzaifa\n",
      "Age: 20\n",
      "Salary: 20000.0\n",
      "Dept: AI\n",
      "------------------------------\n",
      "Name: Jawad\n",
      "Age: 20\n",
      "Salary: 30000.0\n",
      "Hours Worked: 24\n",
      "------------------------------\n",
      "\n",
      " Employee Management System\n",
      "1. Add Employee\n",
      "2. Display All Employee\n",
      "3. Update Employee\n",
      "4. Delete Employee\n",
      "5. Exit\n"
     ]
    },
    {
     "name": "stdin",
     "output_type": "stream",
     "text": [
      "Enter your choice:  3\n",
      "Enter the name of the employee to update: Jawad\n",
      "Enter new name:  ALI\n",
      "Enter new age:  21\n",
      "Enter new salary: 400000\n",
      "Enter new hours worked:  18\n"
     ]
    },
    {
     "name": "stdout",
     "output_type": "stream",
     "text": [
      "Employee updated successfully.\n",
      "\n",
      " Employee Management System\n",
      "1. Add Employee\n",
      "2. Display All Employee\n",
      "3. Update Employee\n",
      "4. Delete Employee\n",
      "5. Exit\n"
     ]
    },
    {
     "name": "stdin",
     "output_type": "stream",
     "text": [
      "Enter your choice:  2\n"
     ]
    },
    {
     "name": "stdout",
     "output_type": "stream",
     "text": [
      "Name: Huzaifa\n",
      "Age: 20\n",
      "Salary: 20000.0\n",
      "Dept: AI\n",
      "------------------------------\n",
      "Name: ALI\n",
      "Age: 21\n",
      "Salary: 400000.0\n",
      "Hours Worked: 18\n",
      "------------------------------\n",
      "\n",
      " Employee Management System\n",
      "1. Add Employee\n",
      "2. Display All Employee\n",
      "3. Update Employee\n",
      "4. Delete Employee\n",
      "5. Exit\n"
     ]
    },
    {
     "name": "stdin",
     "output_type": "stream",
     "text": [
      "Enter your choice:  5\n"
     ]
    },
    {
     "name": "stdout",
     "output_type": "stream",
     "text": [
      "Existing the program.\n"
     ]
    }
   ],
   "source": [
    "def user_interface():\n",
    "    while True:\n",
    "        print(\"\\n Employee Management System\")\n",
    "        print(\"1. Add Employee\")\n",
    "        print(\"2. Display All Employee\")\n",
    "        print(\"3. Update Employee\")\n",
    "        print(\"4. Delete Employee\")\n",
    "        print(\"5. Exit\")\n",
    "\n",
    "        choice = input(\"Enter your choice: \").strip()\n",
    "\n",
    "        if choice == \"1\":\n",
    "            add_employee()\n",
    "\n",
    "        elif choice == \"2\":\n",
    "            display_employees()\n",
    "\n",
    "        elif choice == \"3\":\n",
    "            update_employee()\n",
    "\n",
    "        elif choice == \"4\":\n",
    "            delete_employee()\n",
    "\n",
    "        elif choice == \"5\":\n",
    "            print(\"Existing the program.\")\n",
    "            break\n",
    "\n",
    "        else:\n",
    "            print(\"Invalid choice.\")\n",
    "\n",
    "if __name__ == \"__main__\":\n",
    "    user_interface()"
   ]
  },
  {
   "cell_type": "code",
   "execution_count": null,
   "id": "61181fe3-cfdb-4bd2-866a-13de27f1901d",
   "metadata": {},
   "outputs": [],
   "source": []
  },
  {
   "cell_type": "code",
   "execution_count": null,
   "id": "a669b93d-ec9a-46cf-ace0-5d1596c0cd4d",
   "metadata": {},
   "outputs": [],
   "source": []
  },
  {
   "cell_type": "code",
   "execution_count": null,
   "id": "b026d8aa-cb47-4356-8078-edefb99cb704",
   "metadata": {},
   "outputs": [],
   "source": []
  },
  {
   "cell_type": "code",
   "execution_count": null,
   "id": "a5c5a975-8aff-4b22-a5ec-81bfef0f00f6",
   "metadata": {},
   "outputs": [],
   "source": []
  },
  {
   "cell_type": "code",
   "execution_count": null,
   "id": "6dd4ffb7-05aa-4ae2-a4f5-dad4c665c6dd",
   "metadata": {},
   "outputs": [],
   "source": []
  },
  {
   "cell_type": "code",
   "execution_count": null,
   "id": "d8b4fde6-a396-4d32-b769-b60853fcaef8",
   "metadata": {},
   "outputs": [],
   "source": []
  },
  {
   "cell_type": "code",
   "execution_count": null,
   "id": "34d2db5d-9b8b-4aea-aaba-3c19491ab411",
   "metadata": {},
   "outputs": [],
   "source": []
  },
  {
   "cell_type": "code",
   "execution_count": null,
   "id": "b3aa182f-fc1b-4ec7-a109-6dc3889d1dc6",
   "metadata": {},
   "outputs": [],
   "source": []
  },
  {
   "cell_type": "code",
   "execution_count": null,
   "id": "b0278997-69c0-4935-909e-35a98f8ddda4",
   "metadata": {},
   "outputs": [],
   "source": []
  },
  {
   "cell_type": "code",
   "execution_count": null,
   "id": "e095a142-57a7-4911-8353-a1b010185cbd",
   "metadata": {},
   "outputs": [],
   "source": []
  },
  {
   "cell_type": "code",
   "execution_count": null,
   "id": "3c236556-f432-4ef7-897c-f7344d7e22ef",
   "metadata": {},
   "outputs": [],
   "source": []
  },
  {
   "cell_type": "code",
   "execution_count": null,
   "id": "1e7027d5-53c1-48c3-ab01-4f64aca61432",
   "metadata": {},
   "outputs": [],
   "source": []
  },
  {
   "cell_type": "code",
   "execution_count": null,
   "id": "3170705d-1424-4b48-b613-79c50827b0bb",
   "metadata": {},
   "outputs": [],
   "source": []
  },
  {
   "cell_type": "code",
   "execution_count": null,
   "id": "be420dcb-f129-476a-9723-84dbb35ecfad",
   "metadata": {},
   "outputs": [],
   "source": []
  },
  {
   "cell_type": "code",
   "execution_count": null,
   "id": "4b1b4a66-1921-4a92-af12-a44897195070",
   "metadata": {},
   "outputs": [],
   "source": []
  },
  {
   "cell_type": "code",
   "execution_count": null,
   "id": "026b12d5-f61e-4911-ac21-bcf1a955abf7",
   "metadata": {},
   "outputs": [],
   "source": []
  }
 ],
 "metadata": {
  "kernelspec": {
   "display_name": "Python 3 (ipykernel)",
   "language": "python",
   "name": "python3"
  },
  "language_info": {
   "codemirror_mode": {
    "name": "ipython",
    "version": 3
   },
   "file_extension": ".py",
   "mimetype": "text/x-python",
   "name": "python",
   "nbconvert_exporter": "python",
   "pygments_lexer": "ipython3",
   "version": "3.11.7"
  }
 },
 "nbformat": 4,
 "nbformat_minor": 5
}
