{
 "cells": [
  {
   "cell_type": "markdown",
   "id": "eff8ac59-873e-427d-84ac-15131376312c",
   "metadata": {},
   "source": [
    "# Lab 8\n",
    "### Write code for Min max Algorithm:\n"
   ]
  },
  {
   "cell_type": "code",
   "execution_count": 3,
   "id": "dbae4eaf-c89a-4d36-b114-9d150f74c04b",
   "metadata": {},
   "outputs": [
    {
     "name": "stdout",
     "output_type": "stream",
     "text": [
      "The optimal value is : 5\n"
     ]
    }
   ],
   "source": [
    "import math\n",
    "def mini_max (cur_Depth, node_Index, max_Turn, scores, target_Depth):\n",
    "    if (cur_Depth == target_Depth):\n",
    "        return scores[node_Index]\n",
    "    if (max_Turn):\n",
    "        return max(mini_max(cur_Depth + 1, node_Index * 2, False, scores, target_Depth),mini_max(cur_Depth + 1, node_Index * 2 + 1, False, scores, target_Depth))\n",
    "    else:\n",
    "        return min(mini_max(cur_Depth + 1, node_Index * 2, True, scores, target_Depth), mini_max(cur_Depth + 1, node_Index * 2 + 1, True, scores, target_Depth))\n",
    "\n",
    "scores = [3, 5, 2, 9, 3, 5, 2, 9]\n",
    "tree_Depth = math.log(len(scores), 2)\n",
    "print(\"The optimal value is : \", end = \"\")\n",
    "print(mini_max(0, 0, True, scores, tree_Depth))"
   ]
  },
  {
   "cell_type": "code",
   "execution_count": null,
   "id": "2dbe081d-494b-4c13-90ce-57bf935588b6",
   "metadata": {},
   "outputs": [],
   "source": []
  }
 ],
 "metadata": {
  "kernelspec": {
   "display_name": "Python 3 (ipykernel)",
   "language": "python",
   "name": "python3"
  },
  "language_info": {
   "codemirror_mode": {
    "name": "ipython",
    "version": 3
   },
   "file_extension": ".py",
   "mimetype": "text/x-python",
   "name": "python",
   "nbconvert_exporter": "python",
   "pygments_lexer": "ipython3",
   "version": "3.11.7"
  }
 },
 "nbformat": 4,
 "nbformat_minor": 5
}
