{
 "cells": [
  {
   "cell_type": "markdown",
   "id": "3be7ce25-bb6f-4a40-a2c1-592104c59902",
   "metadata": {},
   "source": [
    "# Lab 5 Task\n",
    "## Task 1: DFS with Stack & Node"
   ]
  },
  {
   "cell_type": "code",
   "execution_count": 16,
   "id": "68700f5f-ee7f-4fcf-976e-0f5a589b40bb",
   "metadata": {},
   "outputs": [
    {
     "name": "stdout",
     "output_type": "stream",
     "text": [
      "DFS using stack: \n",
      "0  1  3  4  2  "
     ]
    }
   ],
   "source": [
    "class Node:\n",
    "    def __init__(self, value):\n",
    "        self.value = value\n",
    "        self.neighbors = []\n",
    "        \n",
    "def DFS_use_stack(start_node):\n",
    "    stack = [start_node]\n",
    "    visited = set()\n",
    "\n",
    "    while stack:\n",
    "        node = stack.pop()\n",
    "        if node not in visited:\n",
    "            print(node.value, end =\"  \")\n",
    "            visited.add(node)\n",
    "            for neighbor in reversed(node.neighbors):\n",
    "                if neighbor not in visited:\n",
    "                    stack.append(neighbor)\n",
    "\n",
    "node_0 = Node(\"0\")\n",
    "node_1 = Node(\"1\")\n",
    "node_2 = Node(\"2\")\n",
    "node_3 = Node(\"3\")\n",
    "node_4 = Node(\"4\")\n",
    "\n",
    "node_0.neighbors = [node_1, node_2]\n",
    "node_1.neighbors = [node_0, node_3, node_4]\n",
    "node_2.neighbors = [node_0]\n",
    "node_3.neighbors = [node_1]\n",
    "node_4.neighbors = [node_2, node_3]\n",
    "\n",
    "print(\"DFS using stack: \")\n",
    "DFS_use_stack(node_0)\n"
   ]
  },
  {
   "cell_type": "markdown",
   "id": "63a30c62-6f86-4c8e-b5ef-d996a03b1040",
   "metadata": {},
   "source": [
    "## Task 2: DFS - Inorder, Preorder, Postorder"
   ]
  },
  {
   "cell_type": "code",
   "execution_count": 26,
   "id": "4dcd20a2-dac1-482c-aff1-6fdfb1cb6f6a",
   "metadata": {},
   "outputs": [
    {
     "name": "stdout",
     "output_type": "stream",
     "text": [
      "In_Order Traversal: \n",
      "4  2  5  1  6  3  7  \n",
      "Pre_Order Traversal: \n",
      "1  2  4  5  3  6  7  \n",
      "Post_Order Traversal: \n",
      "4  5  2  6  7  3  1  "
     ]
    }
   ],
   "source": [
    "class Tree_Node:\n",
    "    def __init__(self, value):\n",
    "        self.value = value\n",
    "        self.left = None\n",
    "        self.right = None\n",
    "\n",
    "def In_order(root):\n",
    "    if root:\n",
    "        In_order(root.left)\n",
    "        print(root.value, end = \"  \")\n",
    "        In_order(root.right)\n",
    "\n",
    "def Pre_order(root):\n",
    "    if root:\n",
    "        print(root.value, end = \"  \")\n",
    "        Pre_order(root.left)\n",
    "        Pre_order(root.right)\n",
    "\n",
    "\n",
    "def Post_order(root):\n",
    "    \n",
    "    if root:\n",
    "        Post_order(root.left)\n",
    "        Post_order(root.right)\n",
    "        print(root.value, end = \"  \")\n",
    "\n",
    "root = Tree_Node(\"1\")\n",
    "root.left = Tree_Node(\"2\")\n",
    "root.right = Tree_Node(\"3\")\n",
    "root.left.left = Tree_Node(\"4\")\n",
    "root.left.right = Tree_Node(\"5\")\n",
    "root.right.left = Tree_Node(\"6\")\n",
    "root.right.right = Tree_Node(\"7\")\n",
    "\n",
    "print(\"In_Order Traversal: \")\n",
    "In_order(root)\n",
    "\n",
    "print(\"\\nPre_Order Traversal: \")\n",
    "Pre_order(root)\n",
    "\n",
    "print(\"\\nPost_Order Traversal: \")\n",
    "Post_order(root)\n"
   ]
  },
  {
   "cell_type": "code",
   "execution_count": null,
   "id": "f01db520-5995-49f6-9481-c66996bb929d",
   "metadata": {},
   "outputs": [],
   "source": []
  }
 ],
 "metadata": {
  "kernelspec": {
   "display_name": "Python 3 (ipykernel)",
   "language": "python",
   "name": "python3"
  },
  "language_info": {
   "codemirror_mode": {
    "name": "ipython",
    "version": 3
   },
   "file_extension": ".py",
   "mimetype": "text/x-python",
   "name": "python",
   "nbconvert_exporter": "python",
   "pygments_lexer": "ipython3",
   "version": "3.11.7"
  }
 },
 "nbformat": 4,
 "nbformat_minor": 5
}
