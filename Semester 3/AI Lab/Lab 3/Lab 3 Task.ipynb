{
 "cells": [
  {
   "cell_type": "markdown",
   "id": "fd388039-5356-40f3-b087-c6189b57cb92",
   "metadata": {},
   "source": [
    "# Lab 3 Task:\n",
    "### Model-Based Reflex Agent \n",
    "#### This agent not only checks the current temperature but also remembers the previous action to avoid turning the heater on or off unnecessarily."
   ]
  },
  {
   "cell_type": "code",
   "execution_count": 9,
   "id": "0cc266b2-2994-46ec-95b7-92e49f8e07ec",
   "metadata": {},
   "outputs": [
    {
     "name": "stdin",
     "output_type": "stream",
     "text": [
      "Enter Desired Temperature:  22\n"
     ]
    },
    {
     "name": "stdout",
     "output_type": "stream",
     "text": [
      "Living Room: Current temperature = 18 Celcius. ( Turn on heater )\n",
      "Bedroom: Current temperature = 22 Celcius. ( Turn off heater )\n",
      "Kitchen: Current temperature = 20 Celcius. ( Turn on heater )\n",
      "Bathroom: Current temperature = 24 Celcius. ( Turn off heater )\n"
     ]
    }
   ],
   "source": [
    "class Model_Based_Relax_Agent:\n",
    "    def __init__(self, desired_temp):\n",
    "        self.desired_temp = desired_temp\n",
    "        self.previous_action = None\n",
    "\n",
    "    def perceive(self, current_temp):\n",
    "        self.current_temp = current_temp\n",
    "\n",
    "    def act(self, current_temp):\n",
    "        if current_temp < self.desired_temp and self.previous_action != \"ON\":\n",
    "            action = \"( Turn on heater )\"\n",
    "            self.previous_action = \"ON\"\n",
    "        elif current_temp >= self.desired_temp and self.previous_action != \"OFF\":\n",
    "            action = \"( Turn off heater )\"\n",
    "            self.previous_action = \"OFF\"\n",
    "        else:\n",
    "            action = print(\"No action\")\n",
    "        return action\n",
    "\n",
    "rooms = {\n",
    "    \"Living Room\": 18,\n",
    "    \"Bedroom\" : 22,\n",
    "    \"Kitchen\" : 20,\n",
    "    \"Bathroom\" : 24\n",
    "}\n",
    "desired_temp = int(input(\"Enter Desired Temperature: \"))\n",
    "agent = Model_Based_Relax_Agent(desired_temp)\n",
    "for room, temp in rooms.items():\n",
    "    action = agent.act(temp)\n",
    "    print(f\"{room}: Current temperature = {temp} Celcius. {action}\")"
   ]
  },
  {
   "cell_type": "code",
   "execution_count": null,
   "id": "d284f161-1ef8-4bfb-bbe0-06630ddf4a85",
   "metadata": {},
   "outputs": [],
   "source": []
  }
 ],
 "metadata": {
  "kernelspec": {
   "display_name": "Python 3 (ipykernel)",
   "language": "python",
   "name": "python3"
  },
  "language_info": {
   "codemirror_mode": {
    "name": "ipython",
    "version": 3
   },
   "file_extension": ".py",
   "mimetype": "text/x-python",
   "name": "python",
   "nbconvert_exporter": "python",
   "pygments_lexer": "ipython3",
   "version": "3.11.7"
  }
 },
 "nbformat": 4,
 "nbformat_minor": 5
}
