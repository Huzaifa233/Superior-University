{
 "cells": [
  {
   "cell_type": "markdown",
   "id": "0f353660-7d02-43b0-9ab6-e15915f82be6",
   "metadata": {},
   "source": [
    "# MiniProject 1: Fizz Buzz"
   ]
  },
  {
   "cell_type": "code",
   "execution_count": 2,
   "id": "b118f8e7-3af7-4844-b9ba-94259bcf60f2",
   "metadata": {},
   "outputs": [
    {
     "name": "stdin",
     "output_type": "stream",
     "text": [
      "Enter Num For Fizz Buzz:  15\n"
     ]
    },
    {
     "name": "stdout",
     "output_type": "stream",
     "text": [
      "1\n",
      "2\n",
      "Fizz\n",
      "4\n",
      "Fizz Buzz\n",
      "Fizz\n",
      "7\n",
      "8\n",
      "Fizz\n",
      "Fizz Buzz\n",
      "11\n",
      "Fizz\n",
      "13\n",
      "14\n",
      "Fizz\n"
     ]
    }
   ],
   "source": [
    "def fizz_Buzz(n):\n",
    "    for i in range(1, n+1):\n",
    "        if i % 3 and i % 5 == 0:\n",
    "            print(\"Fizz Buzz\")\n",
    "        elif i % 3 == 0:\n",
    "            print(\"Fizz\")\n",
    "        elif i % 5 == 0:\n",
    "            print(\"Buzz\")\n",
    "        else:\n",
    "            print(i)\n",
    "\n",
    "n = int(input(\"Enter Num For Fizz Buzz: \"))\n",
    "fizz_Buzz(n)"
   ]
  },
  {
   "cell_type": "markdown",
   "id": "3c9eac6b-7326-419a-97a4-0c2b62ac4b4c",
   "metadata": {},
   "source": [
    "# MiniProject 2: Movie Budget Analysis\n"
   ]
  },
  {
   "cell_type": "code",
   "execution_count": 7,
   "id": "e638ee05-dd6b-468e-841a-5f30ecaebf9f",
   "metadata": {},
   "outputs": [],
   "source": [
    "def cal_ave_budget(movies):\n",
    "    if len(movies) == 0: \n",
    "        print(\"No movies to calculate the average budget.\")\n",
    "        return 0\n",
    "    tot_budget = 0\n",
    "    for movie in movies:\n",
    "        tot_budget += movie[1]\n",
    "    ave_budget = tot_budget / len(movies)\n",
    "    return ave_budget\n",
    "\n",
    "def high_budget_movies(movies, ave_budget):\n",
    "    count = 0\n",
    "    for movie in movies:\n",
    "        if movie[1] > ave_budget:\n",
    "            count += 1\n",
    "            print(f\"{movie[0]} - Budget: {movie[1]} (Higher By: {movie[1] - ave_budget})\")\n",
    "    print(f\"Total No. of movies with higher budget than ave: {count}\")\n",
    "\n",
    "def add_movies(movies):\n",
    "    Num_Movies = int(input(\"Add num of movies: \"))\n",
    "    for _ in range(Num_Movies):\n",
    "        name = input(\"Enter movie name: \")\n",
    "        budget = int(input(f\"Enter budget for {name}: \"))\n",
    "        movies.append((name, budget))\n",
    "    return movies\n",
    "\n",
    "def movie_budget_analysis():\n",
    "    movies = [\n",
    "    (\"The Legend of Maula Jatt\", 50000000), \n",
    "    (\"Bol\", 25000000), \n",
    "    (\"Waar\", 100000000),\n",
    "    (\"Punjab Nahi Jaungi\", 18000000),  \n",
    "    (\"Khuda Kay Liye\", 10000000),\n",
    "    (\"Cake\", 20000000),  \n",
    "    (\"Superstar\", 30000000) \n",
    "    ]\n",
    "\n",
    "    movies = add_movies(movies)\n",
    "    ave_budget = cal_ave_budget(movies)\n",
    "    print(f\"Ave Budget Of Movies: {ave_budget}\")\n",
    "    high_budget_movies(movies, ave_budget)"
   ]
  },
  {
   "cell_type": "code",
   "execution_count": null,
   "id": "63564099-f4b2-49cb-9ae8-4d8c5f05ebc6",
   "metadata": {},
   "outputs": [],
   "source": [
    "movie_budget_analysis()"
   ]
  },
  {
   "cell_type": "code",
   "execution_count": null,
   "id": "ea83593a-08c3-4e20-9d39-bd7815712622",
   "metadata": {},
   "outputs": [],
   "source": []
  },
  {
   "cell_type": "code",
   "execution_count": null,
   "id": "ebf32dbe-1036-4f3f-9396-77d47fd41c2f",
   "metadata": {},
   "outputs": [],
   "source": []
  }
 ],
 "metadata": {
  "kernelspec": {
   "display_name": "Python 3 (ipykernel)",
   "language": "python",
   "name": "python3"
  },
  "language_info": {
   "codemirror_mode": {
    "name": "ipython",
    "version": 3
   },
   "file_extension": ".py",
   "mimetype": "text/x-python",
   "name": "python",
   "nbconvert_exporter": "python",
   "pygments_lexer": "ipython3",
   "version": "3.11.7"
  }
 },
 "nbformat": 4,
 "nbformat_minor": 5
}
