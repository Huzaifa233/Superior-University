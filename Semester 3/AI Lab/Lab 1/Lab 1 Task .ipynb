{
 "cells": [
  {
   "cell_type": "code",
   "execution_count": 10,
   "id": "5e148d06-2ce2-4ba5-a5e5-4d1221aa1ea2",
   "metadata": {},
   "outputs": [
    {
     "name": "stdout",
     "output_type": "stream",
     "text": [
      "\n",
      " ..To do Lists..\n",
      "1- Add a task. \n",
      "2- View a tasks. \n",
      "3- Delete a task. \n",
      "4- Exit. \n"
     ]
    },
    {
     "name": "stdin",
     "output_type": "stream",
     "text": [
      "Enter your choice:  1\n",
      "Enter task to add:  Buy Watch\n"
     ]
    },
    {
     "name": "stdout",
     "output_type": "stream",
     "text": [
      "Task added.\n",
      "\n",
      " ..To do Lists..\n",
      "1- Add a task. \n",
      "2- View a tasks. \n",
      "3- Delete a task. \n",
      "4- Exit. \n"
     ]
    },
    {
     "name": "stdin",
     "output_type": "stream",
     "text": [
      "Enter your choice:  1\n",
      "Enter task to add:  Buy Shoes\n"
     ]
    },
    {
     "name": "stdout",
     "output_type": "stream",
     "text": [
      "Task added.\n",
      "\n",
      " ..To do Lists..\n",
      "1- Add a task. \n",
      "2- View a tasks. \n",
      "3- Delete a task. \n",
      "4- Exit. \n"
     ]
    },
    {
     "name": "stdin",
     "output_type": "stream",
     "text": [
      "Enter your choice:  2\n"
     ]
    },
    {
     "name": "stdout",
     "output_type": "stream",
     "text": [
      "\n",
      " Your tasks: \n",
      "1. Buy Watch\n",
      "2. Buy Shoes\n",
      "\n",
      " ..To do Lists..\n",
      "1- Add a task. \n",
      "2- View a tasks. \n",
      "3- Delete a task. \n",
      "4- Exit. \n"
     ]
    },
    {
     "name": "stdin",
     "output_type": "stream",
     "text": [
      "Enter your choice:  3\n"
     ]
    },
    {
     "name": "stdout",
     "output_type": "stream",
     "text": [
      "\n",
      " Your Tasks: \n",
      "1. Buy Watch\n",
      "2. Buy Shoes\n"
     ]
    },
    {
     "name": "stdin",
     "output_type": "stream",
     "text": [
      "Enter Task Num To Delete:  2\n"
     ]
    },
    {
     "name": "stdout",
     "output_type": "stream",
     "text": [
      "Task Deleted.\n",
      "\n",
      " ..To do Lists..\n",
      "1- Add a task. \n",
      "2- View a tasks. \n",
      "3- Delete a task. \n",
      "4- Exit. \n"
     ]
    },
    {
     "name": "stdin",
     "output_type": "stream",
     "text": [
      "Enter your choice:  2\n"
     ]
    },
    {
     "name": "stdout",
     "output_type": "stream",
     "text": [
      "\n",
      " Your tasks: \n",
      "1. Buy Watch\n",
      "\n",
      " ..To do Lists..\n",
      "1- Add a task. \n",
      "2- View a tasks. \n",
      "3- Delete a task. \n",
      "4- Exit. \n"
     ]
    },
    {
     "name": "stdin",
     "output_type": "stream",
     "text": [
      "Enter your choice:  4\n"
     ]
    },
    {
     "name": "stdout",
     "output_type": "stream",
     "text": [
      "Exiting program.\n"
     ]
    }
   ],
   "source": [
    "def to_do_list():\n",
    "    tasks = []\n",
    "\n",
    "    while True:\n",
    "        print(\"\\n ..To do Lists..\")\n",
    "        print(\"1- Add a task. \")\n",
    "        print(\"2- View a tasks. \")\n",
    "        print(\"3- Delete a task. \")\n",
    "        print(\"4- Exit. \")\n",
    "\n",
    "        choice = input(\"Enter your choice: \")\n",
    "\n",
    "        if choice == \"1\":\n",
    "            task = input(\"Enter task to add: \")\n",
    "            tasks.append(task)\n",
    "            print(\"Task added.\")\n",
    "\n",
    "        elif choice == \"2\":\n",
    "            if not tasks:\n",
    "                print(\"No tasks in list.\")\n",
    "            else:\n",
    "                print(\"\\n Your tasks: \")\n",
    "                for i, task in enumerate(tasks, 1):\n",
    "                    print(f\"{i}. {task}\")\n",
    "\n",
    "        elif choice == \"3\":\n",
    "            if not tasks:\n",
    "                print(\"No tasks to delete.\")\n",
    "\n",
    "            else:\n",
    "                print(\"\\n Your Tasks: \")\n",
    "                for i, task in enumerate(tasks, 1):\n",
    "                    print(f\"{i}. {task}\")\n",
    "\n",
    "                task_num = int(input(\"Enter Task Num To Delete: \"))\n",
    "\n",
    "                if 1 <= task_num <= len(tasks):\n",
    "                    tasks.pop(task_num - 1)\n",
    "                    print(\"Task Deleted.\")\n",
    "\n",
    "                else:\n",
    "                    print(\"Invalid Task Num.\")\n",
    "\n",
    "\n",
    "        elif choice == \"4\":\n",
    "            print(\"Exiting program.\")\n",
    "            break\n",
    "\n",
    "        else:\n",
    "            print(\"Invalid Choice..\")\n",
    "\n",
    "to_do_list()\n",
    "            "
   ]
  },
  {
   "cell_type": "code",
   "execution_count": null,
   "id": "09a54ead-4fca-4398-842e-11dfe39ac12e",
   "metadata": {},
   "outputs": [],
   "source": []
  }
 ],
 "metadata": {
  "kernelspec": {
   "display_name": "Python 3 (ipykernel)",
   "language": "python",
   "name": "python3"
  },
  "language_info": {
   "codemirror_mode": {
    "name": "ipython",
    "version": 3
   },
   "file_extension": ".py",
   "mimetype": "text/x-python",
   "name": "python",
   "nbconvert_exporter": "python",
   "pygments_lexer": "ipython3",
   "version": "3.11.7"
  }
 },
 "nbformat": 4,
 "nbformat_minor": 5
}
