{
 "cells": [
  {
   "cell_type": "markdown",
   "id": "7c991184-90a6-4e39-b290-032cc16607fd",
   "metadata": {},
   "source": [
    "## Task 1: LUHN Algorithm (Credit Card Number Validation)\n",
    "\n"
   ]
  },
  {
   "cell_type": "code",
   "execution_count": 13,
   "id": "a682d90a-a43e-4cf2-9e08-610d16062030",
   "metadata": {},
   "outputs": [
    {
     "name": "stdout",
     "output_type": "stream",
     "text": [
      "Valid Card Number\n"
     ]
    }
   ],
   "source": [
    "def LUHN_check(card_num):\n",
    "    digits = []\n",
    "    \n",
    "    for digit in str(card_num):\n",
    "        digits.append(int(digit))\n",
    "    check_sum = 0\n",
    "    reverse_digits = list(reversed(digits))\n",
    "    \n",
    "    for i in range(len(reverse_digits)):\n",
    "        digit = reverse_digits[i]\n",
    "        if i % 2 == 1:\n",
    "            digit *= 2\n",
    "            if digit > 9:  \n",
    "                digit -= 9\n",
    "        check_sum += digit\n",
    "\n",
    "    return check_sum % 10 == 0 \n",
    "\n",
    "card_number = \"4532015112830366\"\n",
    "if LUHN_check(card_number):\n",
    "    print(\"Valid Card Number\")\n",
    "else:\n",
    "    print(\"Invalid Card Number\")"
   ]
  },
  {
   "cell_type": "markdown",
   "id": "034953d2-51f1-4f0b-be36-2336eb69001f",
   "metadata": {},
   "source": [
    "## Task 2: Python Program to Remove Punctuations from a Given String"
   ]
  },
  {
   "cell_type": "code",
   "execution_count": 15,
   "id": "0d8f51bb-2172-4831-a9a7-5eeab66a778e",
   "metadata": {},
   "outputs": [
    {
     "name": "stdin",
     "output_type": "stream",
     "text": [
      "Enter a text:  \"Hi! This is my text-string.\"\n"
     ]
    },
    {
     "name": "stdout",
     "output_type": "stream",
     "text": [
      "Text Without Punctuation:  \"Hi This is my textstring\"\n"
     ]
    }
   ],
   "source": [
    "def Remove_Punctuation(text):\n",
    "    output = \"\"\n",
    "    for char in text:\n",
    "        if char not in \".,!?;:-()[]{}@#$%^&*|\\/\":\n",
    "            output += char\n",
    "    return output\n",
    "text = input(\"Enter a text: \")\n",
    "clean_text = Remove_Punctuation(text)\n",
    "print(\"Text Without Punctuation: \", clean_text)"
   ]
  },
  {
   "cell_type": "markdown",
   "id": "813e3a9f-ae70-489f-813e-f3fe4a1608ba",
   "metadata": {},
   "source": [
    "## Task 3: Python Program to Sort a Sentence in Alphabetical Order"
   ]
  },
  {
   "cell_type": "code",
   "execution_count": 16,
   "id": "48e769ee-2d5f-44a5-93bf-6e1585e26755",
   "metadata": {},
   "outputs": [
    {
     "name": "stdin",
     "output_type": "stream",
     "text": [
      "Enter A Sentence:  My name is Huzaifa.\n"
     ]
    },
    {
     "name": "stdout",
     "output_type": "stream",
     "text": [
      "Sorted Sentence:  Huzaifa.Myisname\n"
     ]
    }
   ],
   "source": [
    "def Sort_Sentence(sentence):\n",
    "    words = sentence.split()\n",
    "    words = sorted(words)\n",
    "    return \"\".join(words)\n",
    "sentence = input(\"Enter A Sentence: \")\n",
    "print(\"Sorted Sentence: \",Sort_Sentence(sentence))"
   ]
  },
  {
   "cell_type": "code",
   "execution_count": null,
   "id": "6633a19b-471e-47bf-964d-408b7f33e423",
   "metadata": {},
   "outputs": [],
   "source": []
  }
 ],
 "metadata": {
  "kernelspec": {
   "display_name": "Python 3 (ipykernel)",
   "language": "python",
   "name": "python3"
  },
  "language_info": {
   "codemirror_mode": {
    "name": "ipython",
    "version": 3
   },
   "file_extension": ".py",
   "mimetype": "text/x-python",
   "name": "python",
   "nbconvert_exporter": "python",
   "pygments_lexer": "ipython3",
   "version": "3.11.7"
  }
 },
 "nbformat": 4,
 "nbformat_minor": 5
}
