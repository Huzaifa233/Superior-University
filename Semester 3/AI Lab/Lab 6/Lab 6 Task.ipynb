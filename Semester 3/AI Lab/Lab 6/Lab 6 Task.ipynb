{
 "cells": [
  {
   "cell_type": "markdown",
   "id": "20461704-626d-4fa6-8f39-e9054aeacd87",
   "metadata": {},
   "source": [
    "# Lab 6:\n",
    "## Task 2: BFS Without Queue & without Node\n"
   ]
  },
  {
   "cell_type": "code",
   "execution_count": 13,
   "id": "a0c0350d-809c-40fd-8da0-1654e516ba15",
   "metadata": {},
   "outputs": [
    {
     "name": "stdout",
     "output_type": "stream",
     "text": [
      "BFS Traversal without Queue: \n",
      "1  2  3  4  5  6  7  8  9  10  11  12  "
     ]
    }
   ],
   "source": [
    "\n",
    "graph = {\n",
    "    1: [2, 3],\n",
    "    2: [4, 5],\n",
    "    3: [6],\n",
    "    4: [7, 8],\n",
    "    5: [],\n",
    "    6: [9, 10],\n",
    "    7: [],\n",
    "    8: [11],\n",
    "    9: [],\n",
    "    10: [12],\n",
    "    11: [],\n",
    "    12: []\n",
    "}\n",
    "def BFS_recursive(graph, Curr_level, visited):\n",
    "    if not Curr_level:\n",
    "        return\n",
    "    next_level = []\n",
    "    for node in Curr_level:\n",
    "        if node not in visited:\n",
    "            print(node, end = \"  \")\n",
    "            visited.add(node)\n",
    "            next_level.extend(graph[node])\n",
    "    BFS_recursive(graph, next_level, visited)\n",
    "\n",
    "print(\"BFS Traversal without Queue: \")\n",
    "BFS_recursive(graph, [1], set())\n",
    "\n"
   ]
  },
  {
   "cell_type": "markdown",
   "id": "c35a40cc-d120-4835-bd4f-948d05b31c48",
   "metadata": {},
   "source": [
    "## Task 2: BFS With Queue & Node"
   ]
  },
  {
   "cell_type": "code",
   "execution_count": 14,
   "id": "4f8f6941-2ec3-4f69-9d2d-7d1ae8370f90",
   "metadata": {},
   "outputs": [
    {
     "name": "stdout",
     "output_type": "stream",
     "text": [
      "BFS using queue: \n",
      "0  2  1  4  3  "
     ]
    }
   ],
   "source": [
    "class Node:\n",
    "    def __init__(self, value):\n",
    "        self.value = value\n",
    "        self.neighbors = []\n",
    "        \n",
    "def BFS_use_queue(start_node):\n",
    "    queue = [start_node]\n",
    "    visited = set()\n",
    "\n",
    "    while queue:\n",
    "        node = queue.pop(0)\n",
    "        if node not in visited:\n",
    "            print(node.value, end =\"  \")\n",
    "            visited.add(node)\n",
    "            for neighbor in reversed(node.neighbors):\n",
    "                if neighbor not in visited:\n",
    "                    queue.append(neighbor)\n",
    "\n",
    "node_0 = Node(\"0\")\n",
    "node_1 = Node(\"1\")\n",
    "node_2 = Node(\"2\")\n",
    "node_3 = Node(\"3\")\n",
    "node_4 = Node(\"4\")\n",
    "\n",
    "node_0.neighbors = [node_1, node_2]\n",
    "node_1.neighbors = [node_0, node_3, node_4]\n",
    "node_2.neighbors = [node_0]\n",
    "node_3.neighbors = [node_1]\n",
    "node_4.neighbors = [node_2, node_3]\n",
    "\n",
    "print(\"BFS using queue: \")\n",
    "BFS_use_queue(node_0)\n"
   ]
  },
  {
   "cell_type": "code",
   "execution_count": null,
   "id": "b20e753b-bbdf-49e1-b8db-48433b512357",
   "metadata": {},
   "outputs": [],
   "source": []
  }
 ],
 "metadata": {
  "kernelspec": {
   "display_name": "Python 3 (ipykernel)",
   "language": "python",
   "name": "python3"
  },
  "language_info": {
   "codemirror_mode": {
    "name": "ipython",
    "version": 3
   },
   "file_extension": ".py",
   "mimetype": "text/x-python",
   "name": "python",
   "nbconvert_exporter": "python",
   "pygments_lexer": "ipython3",
   "version": "3.11.7"
  }
 },
 "nbformat": 4,
 "nbformat_minor": 5
}
